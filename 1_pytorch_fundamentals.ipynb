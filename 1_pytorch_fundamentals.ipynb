{
  "nbformat": 4,
  "nbformat_minor": 0,
  "metadata": {
    "colab": {
      "provenance": [],
      "gpuType": "T4"
    },
    "kernelspec": {
      "name": "python3",
      "display_name": "Python 3"
    },
    "language_info": {
      "name": "python"
    },
    "accelerator": "GPU"
  },
  "cells": [
    {
      "cell_type": "markdown",
      "source": [
        "# PyTorch Fundamentals\n",
        "\n",
        "pytorch documentation : https://pytorch.org/docs/stable/tensors.html"
      ],
      "metadata": {
        "id": "PA7xTEi3UrzR"
      }
    },
    {
      "cell_type": "code",
      "source": [
        "# Libraries needed to work with pytorch\n",
        "\n",
        "import torch\n",
        "import pandas as pd\n",
        "import numpy as np\n",
        "import matplotlib.pyplot as plt\n",
        "print(torch.__version__)"
      ],
      "metadata": {
        "colab": {
          "base_uri": "https://localhost:8080/"
        },
        "id": "bJoNnhs5qns9",
        "outputId": "1c9eb381-992d-477b-8af4-1a4ba2b80a19"
      },
      "execution_count": 1,
      "outputs": [
        {
          "output_type": "stream",
          "name": "stdout",
          "text": [
            "2.4.1+cu121\n"
          ]
        }
      ]
    },
    {
      "cell_type": "code",
      "source": [
        "# If runnig on GPY/TPU you can find what machine you are running on\n",
        "\n",
        "!nvidia-smi"
      ],
      "metadata": {
        "colab": {
          "base_uri": "https://localhost:8080/"
        },
        "id": "C_rainl2qtke",
        "outputId": "e667293c-5fe3-4956-ba3a-6d78c4f93a22"
      },
      "execution_count": 2,
      "outputs": [
        {
          "output_type": "stream",
          "name": "stdout",
          "text": [
            "Sat Sep 21 03:08:32 2024       \n",
            "+---------------------------------------------------------------------------------------+\n",
            "| NVIDIA-SMI 535.104.05             Driver Version: 535.104.05   CUDA Version: 12.2     |\n",
            "|-----------------------------------------+----------------------+----------------------+\n",
            "| GPU  Name                 Persistence-M | Bus-Id        Disp.A | Volatile Uncorr. ECC |\n",
            "| Fan  Temp   Perf          Pwr:Usage/Cap |         Memory-Usage | GPU-Util  Compute M. |\n",
            "|                                         |                      |               MIG M. |\n",
            "|=========================================+======================+======================|\n",
            "|   0  Tesla T4                       Off | 00000000:00:04.0 Off |                    0 |\n",
            "| N/A   62C    P8              12W /  70W |      0MiB / 15360MiB |      0%      Default |\n",
            "|                                         |                      |                  N/A |\n",
            "+-----------------------------------------+----------------------+----------------------+\n",
            "                                                                                         \n",
            "+---------------------------------------------------------------------------------------+\n",
            "| Processes:                                                                            |\n",
            "|  GPU   GI   CI        PID   Type   Process name                            GPU Memory |\n",
            "|        ID   ID                                                             Usage      |\n",
            "|=======================================================================================|\n",
            "|  No running processes found                                                           |\n",
            "+---------------------------------------------------------------------------------------+\n"
          ]
        }
      ]
    },
    {
      "cell_type": "markdown",
      "source": [
        "# 1.Introduction to Tensors\n",
        "\n",
        "**Tensors** - is a multidimensional matrix that stores data of a single type. Tensors could be of any dimensions\n",
        "\n",
        "Scalers and Vectors are represented by small letters and Matrix and Tensor are generally represented by Block letters\n",
        "\n"
      ],
      "metadata": {
        "id": "mH4jlI-6-IW3"
      }
    },
    {
      "cell_type": "code",
      "source": [
        "# A single scalar using torch tensor\n",
        "scaler = torch.tensor(10)\n",
        "scaler"
      ],
      "metadata": {
        "colab": {
          "base_uri": "https://localhost:8080/"
        },
        "id": "fi2GDBVc9ZWB",
        "outputId": "aac4a058-ac4c-4c1e-ae24-16b60afde6a6"
      },
      "execution_count": 3,
      "outputs": [
        {
          "output_type": "execute_result",
          "data": {
            "text/plain": [
              "tensor(10)"
            ]
          },
          "metadata": {},
          "execution_count": 3
        }
      ]
    },
    {
      "cell_type": "code",
      "source": [
        "# A scaler can be added to a Tensor\n",
        "scaler + 1"
      ],
      "metadata": {
        "colab": {
          "base_uri": "https://localhost:8080/"
        },
        "id": "RvfFUC4pgDpG",
        "outputId": "ce018dc3-f403-457f-d040-0a6204667726"
      },
      "execution_count": 4,
      "outputs": [
        {
          "output_type": "execute_result",
          "data": {
            "text/plain": [
              "tensor(11)"
            ]
          },
          "metadata": {},
          "execution_count": 4
        }
      ]
    },
    {
      "cell_type": "code",
      "source": [
        "# Another way to accomplish above operation\n",
        "scaler + torch.tensor(1)"
      ],
      "metadata": {
        "colab": {
          "base_uri": "https://localhost:8080/"
        },
        "id": "-mx8vfhn-xy4",
        "outputId": "fd266eb1-8272-460e-dbf2-81963d5e05bb"
      },
      "execution_count": 5,
      "outputs": [
        {
          "output_type": "execute_result",
          "data": {
            "text/plain": [
              "tensor(11)"
            ]
          },
          "metadata": {},
          "execution_count": 5
        }
      ]
    },
    {
      "cell_type": "code",
      "source": [
        "# scaler has no dimension. ndim = 0\n",
        "scaler.ndim, scaler.size()"
      ],
      "metadata": {
        "colab": {
          "base_uri": "https://localhost:8080/"
        },
        "id": "UorSRPLp-lmA",
        "outputId": "e8f0bdc1-f453-4bba-938f-51febdab7b46"
      },
      "execution_count": 6,
      "outputs": [
        {
          "output_type": "execute_result",
          "data": {
            "text/plain": [
              "(0, torch.Size([]))"
            ]
          },
          "metadata": {},
          "execution_count": 6
        }
      ]
    },
    {
      "cell_type": "code",
      "source": [
        "# Vector in scientific terms has a direction and magnitude\n",
        "vector = torch.tensor([45,45])\n",
        "vector,vector.shape, vector.ndim, vector.dtype, vector.size()"
      ],
      "metadata": {
        "colab": {
          "base_uri": "https://localhost:8080/"
        },
        "id": "scM0TrFu-lcM",
        "outputId": "11d22262-bbdf-461a-e92f-55358bcaa554"
      },
      "execution_count": 7,
      "outputs": [
        {
          "output_type": "execute_result",
          "data": {
            "text/plain": [
              "(tensor([45, 45]), torch.Size([2]), 1, torch.int64, torch.Size([2]))"
            ]
          },
          "metadata": {},
          "execution_count": 7
        }
      ]
    },
    {
      "cell_type": "code",
      "source": [
        "# Check shape, dim and dtype of a tensor\n",
        "v = torch.tensor([[45,45],[34,0]])\n",
        "v, v.shape, v.ndim, v.dtype, v.size()"
      ],
      "metadata": {
        "colab": {
          "base_uri": "https://localhost:8080/"
        },
        "id": "42JzXnYd-lMh",
        "outputId": "2a5c7a52-6a7f-45a6-c815-5070c7520145"
      },
      "execution_count": 8,
      "outputs": [
        {
          "output_type": "execute_result",
          "data": {
            "text/plain": [
              "(tensor([[45, 45],\n",
              "         [34,  0]]),\n",
              " torch.Size([2, 2]),\n",
              " 2,\n",
              " torch.int64,\n",
              " torch.Size([2, 2]))"
            ]
          },
          "metadata": {},
          "execution_count": 8
        }
      ]
    },
    {
      "cell_type": "code",
      "source": [
        "# Indexing the tensor is similar to array indexing\n",
        "v[0], v[1]"
      ],
      "metadata": {
        "colab": {
          "base_uri": "https://localhost:8080/"
        },
        "id": "FGo1qosT-lCI",
        "outputId": "5825ac1d-6aa8-4d80-ade4-90cfcf3b0b44"
      },
      "execution_count": 9,
      "outputs": [
        {
          "output_type": "execute_result",
          "data": {
            "text/plain": [
              "(tensor([45, 45]), tensor([34,  0]))"
            ]
          },
          "metadata": {},
          "execution_count": 9
        }
      ]
    },
    {
      "cell_type": "code",
      "source": [
        "# 3 dimensional tensor\n",
        "TENSOR = torch.tensor([[[45,45],\n",
        "                        [34,111],\n",
        "                       [4,5]],\n",
        "                       [[451,425],\n",
        "                        [3544,6],\n",
        "                       [44,565]]])\n",
        "TENSOR, TENSOR.shape, TENSOR.ndim, TENSOR.dtype, TENSOR.size()"
      ],
      "metadata": {
        "colab": {
          "base_uri": "https://localhost:8080/"
        },
        "id": "y8fTyJpN8i_5",
        "outputId": "4c4b3a95-f8dd-4b18-bdd3-28e82f9b88dc"
      },
      "execution_count": 10,
      "outputs": [
        {
          "output_type": "execute_result",
          "data": {
            "text/plain": [
              "(tensor([[[  45,   45],\n",
              "          [  34,  111],\n",
              "          [   4,    5]],\n",
              " \n",
              "         [[ 451,  425],\n",
              "          [3544,    6],\n",
              "          [  44,  565]]]),\n",
              " torch.Size([2, 3, 2]),\n",
              " 3,\n",
              " torch.int64,\n",
              " torch.Size([2, 3, 2]))"
            ]
          },
          "metadata": {},
          "execution_count": 10
        }
      ]
    },
    {
      "cell_type": "code",
      "source": [
        "# Indexing a multidimensional tensor\n",
        "TENSOR[0][2][1]"
      ],
      "metadata": {
        "colab": {
          "base_uri": "https://localhost:8080/"
        },
        "id": "hIQsjt_wf6a3",
        "outputId": "0bb7ffd5-c70f-4aac-c3c2-1a093c750722"
      },
      "execution_count": 11,
      "outputs": [
        {
          "output_type": "execute_result",
          "data": {
            "text/plain": [
              "tensor(5)"
            ]
          },
          "metadata": {},
          "execution_count": 11
        }
      ]
    },
    {
      "cell_type": "code",
      "source": [
        "T = torch.tensor([[0,0],[45,45],[34,0],[4,5]])\n",
        "T.ndim"
      ],
      "metadata": {
        "id": "Azgc4Ijcgqms",
        "colab": {
          "base_uri": "https://localhost:8080/"
        },
        "outputId": "55791a22-2530-4847-8a1c-cf93d7aad7f2"
      },
      "execution_count": 12,
      "outputs": [
        {
          "output_type": "execute_result",
          "data": {
            "text/plain": [
              "2"
            ]
          },
          "metadata": {},
          "execution_count": 12
        }
      ]
    },
    {
      "cell_type": "code",
      "source": [
        "T[3][1]"
      ],
      "metadata": {
        "colab": {
          "base_uri": "https://localhost:8080/"
        },
        "id": "VGO3Cy9SiNyz",
        "outputId": "9e84cd74-bd02-4068-c0d2-050b4c3c3ad7"
      },
      "execution_count": 13,
      "outputs": [
        {
          "output_type": "execute_result",
          "data": {
            "text/plain": [
              "tensor(5)"
            ]
          },
          "metadata": {},
          "execution_count": 13
        }
      ]
    },
    {
      "cell_type": "markdown",
      "source": [
        "# 2.Generate Random Tensor\n",
        "\n",
        "`Random` nums are important for NN\n",
        "\n",
        "Read more on random number generation - https://pytorch.org/docs/stable/generated/torch.rand.html"
      ],
      "metadata": {
        "id": "BpTa6Cr2FROj"
      }
    },
    {
      "cell_type": "code",
      "source": [
        "# Let's geberate a tensor with random values with size [3,4]\n",
        "random_nums = torch.rand(3,4)\n",
        "random_nums, random_nums.dtype, random_nums.size(), random_nums.ndim"
      ],
      "metadata": {
        "colab": {
          "base_uri": "https://localhost:8080/"
        },
        "id": "Rf9Hxmt4Fa5I",
        "outputId": "0605696c-a212-45bb-dae6-af45d70f1628"
      },
      "execution_count": 14,
      "outputs": [
        {
          "output_type": "execute_result",
          "data": {
            "text/plain": [
              "(tensor([[0.5273, 0.5966, 0.3705, 0.3289],\n",
              "         [0.4582, 0.1435, 0.3704, 0.2810],\n",
              "         [0.3568, 0.6724, 0.3091, 0.0493]]),\n",
              " torch.float32,\n",
              " torch.Size([3, 4]),\n",
              " 2)"
            ]
          },
          "metadata": {},
          "execution_count": 14
        }
      ]
    },
    {
      "cell_type": "code",
      "source": [
        "rand_img_size_tensor = torch.rand(size=(3, 224,224))\n",
        "rand_img_size_tensor.dtype, rand_img_size_tensor.size(), rand_img_size_tensor.ndim"
      ],
      "metadata": {
        "colab": {
          "base_uri": "https://localhost:8080/"
        },
        "id": "CSDoe9byFcrs",
        "outputId": "89072433-e6f5-4bfe-8172-df5d39ceb5fe"
      },
      "execution_count": 15,
      "outputs": [
        {
          "output_type": "execute_result",
          "data": {
            "text/plain": [
              "(torch.float32, torch.Size([3, 224, 224]), 3)"
            ]
          },
          "metadata": {},
          "execution_count": 15
        }
      ]
    },
    {
      "cell_type": "markdown",
      "source": [
        "# 3.Zeros, ones and arange"
      ],
      "metadata": {
        "id": "449ivPUdIj14"
      }
    },
    {
      "cell_type": "markdown",
      "source": [
        " ## Zeros and ones\n",
        "\n",
        " Tensor with all zeros and all ones can be generated easily with torch"
      ],
      "metadata": {
        "id": "a3vyDLmSXzFM"
      }
    },
    {
      "cell_type": "code",
      "source": [
        "# Zeros and ones\n",
        "tensor_zero = torch.zeros(size=(3,4))\n",
        "tensor_ones = torch.ones(size=(3,4))\n",
        "\n",
        "random_nums = torch.rand(3,4)\n",
        "tensor_zero,tensor_ones,random_nums"
      ],
      "metadata": {
        "colab": {
          "base_uri": "https://localhost:8080/"
        },
        "id": "wVrsmPZIFcwH",
        "outputId": "3200857b-e537-4ab5-b145-079a1953d686"
      },
      "execution_count": 16,
      "outputs": [
        {
          "output_type": "execute_result",
          "data": {
            "text/plain": [
              "(tensor([[0., 0., 0., 0.],\n",
              "         [0., 0., 0., 0.],\n",
              "         [0., 0., 0., 0.]]),\n",
              " tensor([[1., 1., 1., 1.],\n",
              "         [1., 1., 1., 1.],\n",
              "         [1., 1., 1., 1.]]),\n",
              " tensor([[0.4433, 0.3688, 0.8664, 0.4945],\n",
              "         [0.4080, 0.0699, 0.8729, 0.8264],\n",
              "         [0.2102, 0.9396, 0.2889, 0.5795]]))"
            ]
          },
          "metadata": {},
          "execution_count": 16
        }
      ]
    },
    {
      "cell_type": "code",
      "source": [
        "tensor_ones.dtype"
      ],
      "metadata": {
        "colab": {
          "base_uri": "https://localhost:8080/"
        },
        "id": "Tn27YVSxFcyR",
        "outputId": "489f6f64-49d5-4249-a015-3aad2521244c"
      },
      "execution_count": 17,
      "outputs": [
        {
          "output_type": "execute_result",
          "data": {
            "text/plain": [
              "torch.float32"
            ]
          },
          "metadata": {},
          "execution_count": 17
        }
      ]
    },
    {
      "cell_type": "markdown",
      "source": [
        "## Arange\n",
        "\n",
        "Gives a tensor with range of values (from low to high) with specified interval"
      ],
      "metadata": {
        "id": "Mm9A60W6IjRs"
      }
    },
    {
      "cell_type": "code",
      "source": [
        "range_test = torch.arange(0,5,2)\n",
        "range_test"
      ],
      "metadata": {
        "colab": {
          "base_uri": "https://localhost:8080/"
        },
        "id": "6BnXR0dvXrEq",
        "outputId": "1be326d9-45ea-4c8e-f7c3-0824fb08c15a"
      },
      "execution_count": 18,
      "outputs": [
        {
          "output_type": "execute_result",
          "data": {
            "text/plain": [
              "tensor([0, 2, 4])"
            ]
          },
          "metadata": {},
          "execution_count": 18
        }
      ]
    },
    {
      "cell_type": "code",
      "source": [
        "range_test = torch.arange(0,5)\n",
        "for i in range_test:\n",
        "  print(i)"
      ],
      "metadata": {
        "colab": {
          "base_uri": "https://localhost:8080/"
        },
        "id": "9uuh46NWFc0S",
        "outputId": "4f56364c-81a6-4e9e-9ec8-020e507bf739"
      },
      "execution_count": 19,
      "outputs": [
        {
          "output_type": "stream",
          "name": "stdout",
          "text": [
            "tensor(0)\n",
            "tensor(1)\n",
            "tensor(2)\n",
            "tensor(3)\n",
            "tensor(4)\n"
          ]
        }
      ]
    },
    {
      "cell_type": "markdown",
      "source": [
        "## Zeros like and ones_like\n",
        "\n",
        "`zeros_like` returns a tensor filled with the scalar value 0, with the same size as input\n",
        "\n",
        "`ones_like` returns a tensor filled with the scalar value 1, with the same size as input"
      ],
      "metadata": {
        "id": "KzgEsoB5I5aa"
      }
    },
    {
      "cell_type": "code",
      "source": [
        "range_test = torch.arange(0,5)\n",
        "range_test"
      ],
      "metadata": {
        "colab": {
          "base_uri": "https://localhost:8080/"
        },
        "id": "V_2ft6x3kUYF",
        "outputId": "a3f16e0e-ec24-47d8-b2a0-03de724dda27"
      },
      "execution_count": 20,
      "outputs": [
        {
          "output_type": "execute_result",
          "data": {
            "text/plain": [
              "tensor([0, 1, 2, 3, 4])"
            ]
          },
          "metadata": {},
          "execution_count": 20
        }
      ]
    },
    {
      "cell_type": "code",
      "source": [
        "torch.zeros_like(input=range_test)"
      ],
      "metadata": {
        "colab": {
          "base_uri": "https://localhost:8080/"
        },
        "id": "it9DPx8NJZNi",
        "outputId": "8a73a23d-10a7-4646-97ef-4d53c553c602"
      },
      "execution_count": 21,
      "outputs": [
        {
          "output_type": "execute_result",
          "data": {
            "text/plain": [
              "tensor([0, 0, 0, 0, 0])"
            ]
          },
          "metadata": {},
          "execution_count": 21
        }
      ]
    },
    {
      "cell_type": "code",
      "source": [
        "torch.ones_like(input=range_test)"
      ],
      "metadata": {
        "colab": {
          "base_uri": "https://localhost:8080/"
        },
        "id": "4vrK-DVcJZQR",
        "outputId": "9920587f-2fed-423d-863d-948c5000dbb0"
      },
      "execution_count": 22,
      "outputs": [
        {
          "output_type": "execute_result",
          "data": {
            "text/plain": [
              "tensor([1, 1, 1, 1, 1])"
            ]
          },
          "metadata": {},
          "execution_count": 22
        }
      ]
    },
    {
      "cell_type": "markdown",
      "source": [
        "# 4.Tensor dtypes and device\n",
        "\n",
        "Very important as dtype is one of the 3 problems we are going to encounter.\n",
        "\n",
        "Common problems faced during model building\n",
        "1. Right dtype -- is it float32 or float16 or int64 etc\n",
        "2. Right shape -- if it is 3x4 or 4x3 etc\n",
        "3. Right device -- \"cpu\", \"cuda\" (GPU vs CPU) etc"
      ],
      "metadata": {
        "id": "g9ZD95y7JZSu"
      }
    },
    {
      "cell_type": "code",
      "source": [
        "new_sample_tensor = torch.rand(size=(3,4),dtype=None,\n",
        "                               device = None,\n",
        "                               requires_grad= False)\n",
        "print(new_sample_tensor)\n",
        "new_sample_tensor.dtype, new_sample_tensor.device"
      ],
      "metadata": {
        "colab": {
          "base_uri": "https://localhost:8080/"
        },
        "id": "SOcG98BzJZVG",
        "outputId": "50983ac6-c758-4d07-9487-7e76d7387913"
      },
      "execution_count": 23,
      "outputs": [
        {
          "output_type": "stream",
          "name": "stdout",
          "text": [
            "tensor([[0.4291, 0.0479, 0.5578, 0.9583],\n",
            "        [0.7125, 0.8071, 0.3699, 0.4137],\n",
            "        [0.0860, 0.7324, 0.9983, 0.1503]])\n"
          ]
        },
        {
          "output_type": "execute_result",
          "data": {
            "text/plain": [
              "(torch.float32, device(type='cpu'))"
            ]
          },
          "metadata": {},
          "execution_count": 23
        }
      ]
    },
    {
      "cell_type": "code",
      "source": [
        "# convert float32 to float16\n",
        "latest_tensor = new_sample_tensor.type(torch.float16)\n",
        "latest_tensor.dtype"
      ],
      "metadata": {
        "colab": {
          "base_uri": "https://localhost:8080/"
        },
        "id": "o4JZiISUJZXV",
        "outputId": "9c79c64c-7049-423a-cc21-74a2f44d958e"
      },
      "execution_count": 24,
      "outputs": [
        {
          "output_type": "execute_result",
          "data": {
            "text/plain": [
              "torch.float16"
            ]
          },
          "metadata": {},
          "execution_count": 24
        }
      ]
    },
    {
      "cell_type": "code",
      "source": [
        "print(latest_tensor.shape, new_sample_tensor.shape)\n",
        "latest_tensor,new_sample_tensor"
      ],
      "metadata": {
        "colab": {
          "base_uri": "https://localhost:8080/"
        },
        "id": "cu72W2unYQ04",
        "outputId": "bff5fe79-9869-447b-e5bb-db005a20f0b6"
      },
      "execution_count": 25,
      "outputs": [
        {
          "output_type": "stream",
          "name": "stdout",
          "text": [
            "torch.Size([3, 4]) torch.Size([3, 4])\n"
          ]
        },
        {
          "output_type": "execute_result",
          "data": {
            "text/plain": [
              "(tensor([[0.4290, 0.0479, 0.5576, 0.9585],\n",
              "         [0.7124, 0.8071, 0.3699, 0.4136],\n",
              "         [0.0861, 0.7324, 0.9985, 0.1503]], dtype=torch.float16),\n",
              " tensor([[0.4291, 0.0479, 0.5578, 0.9583],\n",
              "         [0.7125, 0.8071, 0.3699, 0.4137],\n",
              "         [0.0860, 0.7324, 0.9983, 0.1503]]))"
            ]
          },
          "metadata": {},
          "execution_count": 25
        }
      ]
    },
    {
      "cell_type": "code",
      "source": [
        "# When multiplied we get the float32 dtype\n",
        "tensors_multiplied = latest_tensor * new_sample_tensor\n",
        "tensors_multiplied.dtype"
      ],
      "metadata": {
        "colab": {
          "base_uri": "https://localhost:8080/"
        },
        "id": "QZuM3l4SX3G6",
        "outputId": "77c45f5e-a8df-4154-a4e0-ac54e461f156"
      },
      "execution_count": 26,
      "outputs": [
        {
          "output_type": "execute_result",
          "data": {
            "text/plain": [
              "torch.float32"
            ]
          },
          "metadata": {},
          "execution_count": 26
        }
      ]
    },
    {
      "cell_type": "code",
      "source": [
        "# We can also specify what datatype the tensor should be\n",
        "int_32_tensor = torch.tensor([3,4],dtype=torch.int32)\n",
        "float_32_tensor = torch.tensor([5,4],dtype=torch.float32)\n",
        "print(int_32_tensor, float_32_tensor)\n",
        "print(int_32_tensor * float_32_tensor)"
      ],
      "metadata": {
        "colab": {
          "base_uri": "https://localhost:8080/"
        },
        "id": "qwLDZ9MTYPJ-",
        "outputId": "29b094dd-379c-4b7b-993c-38e784837d2e"
      },
      "execution_count": 27,
      "outputs": [
        {
          "output_type": "stream",
          "name": "stdout",
          "text": [
            "tensor([3, 4], dtype=torch.int32) tensor([5., 4.])\n",
            "tensor([15., 16.])\n"
          ]
        }
      ]
    },
    {
      "cell_type": "code",
      "source": [
        "# When operations between two tensors are done, it is important to have both the tensors in the same device, else we may get an error\n",
        "int_32_tensor.device"
      ],
      "metadata": {
        "colab": {
          "base_uri": "https://localhost:8080/"
        },
        "id": "T8zJaxgCY53S",
        "outputId": "d95bc280-1a1b-4bd2-bc9c-75de6c734977"
      },
      "execution_count": 28,
      "outputs": [
        {
          "output_type": "execute_result",
          "data": {
            "text/plain": [
              "device(type='cpu')"
            ]
          },
          "metadata": {},
          "execution_count": 28
        }
      ]
    },
    {
      "cell_type": "markdown",
      "source": [
        "# 5.Data Manipulations with Tensor\n",
        "\n",
        "1. Addition\n",
        "2. Subtraction\n",
        "3. Multiplication\n",
        "4. Division\n",
        "5. Matrix Multiplication  -- Inner dims should match\n",
        "\n",
        "All operations except for Matrix Multiplication is done at element level"
      ],
      "metadata": {
        "id": "kW4KpgjIZyI6"
      }
    },
    {
      "cell_type": "code",
      "source": [
        "ten_1 = torch.tensor([1,2,3])\n",
        "ten_2 = torch.tensor([4,5,6])"
      ],
      "metadata": {
        "id": "yZw1C_kCywRf"
      },
      "execution_count": 29,
      "outputs": []
    },
    {
      "cell_type": "code",
      "source": [
        "ten_1 + ten_2"
      ],
      "metadata": {
        "colab": {
          "base_uri": "https://localhost:8080/"
        },
        "id": "nSRgbzxMywIu",
        "outputId": "37fcdacb-b2e5-4b92-d442-5e73047da67c"
      },
      "execution_count": 30,
      "outputs": [
        {
          "output_type": "execute_result",
          "data": {
            "text/plain": [
              "tensor([5, 7, 9])"
            ]
          },
          "metadata": {},
          "execution_count": 30
        }
      ]
    },
    {
      "cell_type": "code",
      "source": [
        "ten_1 - ten_2"
      ],
      "metadata": {
        "colab": {
          "base_uri": "https://localhost:8080/"
        },
        "id": "jBNin4BMyv-t",
        "outputId": "3a516559-3317-4e4c-b280-666a5c5a5210"
      },
      "execution_count": 31,
      "outputs": [
        {
          "output_type": "execute_result",
          "data": {
            "text/plain": [
              "tensor([-3, -3, -3])"
            ]
          },
          "metadata": {},
          "execution_count": 31
        }
      ]
    },
    {
      "cell_type": "code",
      "source": [
        "ten_1 * ten_2"
      ],
      "metadata": {
        "colab": {
          "base_uri": "https://localhost:8080/"
        },
        "id": "7mfHL6siyv0g",
        "outputId": "2568b456-5668-4756-e0b0-28f6beb2b228"
      },
      "execution_count": 32,
      "outputs": [
        {
          "output_type": "execute_result",
          "data": {
            "text/plain": [
              "tensor([ 4, 10, 18])"
            ]
          },
          "metadata": {},
          "execution_count": 32
        }
      ]
    },
    {
      "cell_type": "code",
      "source": [
        "ten_1 / ten_2"
      ],
      "metadata": {
        "colab": {
          "base_uri": "https://localhost:8080/"
        },
        "id": "B6yxAthRy7kc",
        "outputId": "3d382947-d93b-4a3c-c9c3-dee5b6cd6723"
      },
      "execution_count": 33,
      "outputs": [
        {
          "output_type": "execute_result",
          "data": {
            "text/plain": [
              "tensor([0.2500, 0.4000, 0.5000])"
            ]
          },
          "metadata": {},
          "execution_count": 33
        }
      ]
    },
    {
      "cell_type": "code",
      "source": [
        "# Power\n",
        "ten_1 ** ten_2"
      ],
      "metadata": {
        "colab": {
          "base_uri": "https://localhost:8080/"
        },
        "id": "7I-lv7wCy8qT",
        "outputId": "6fa13c56-67af-4852-a551-07fd4d5a2060"
      },
      "execution_count": 34,
      "outputs": [
        {
          "output_type": "execute_result",
          "data": {
            "text/plain": [
              "tensor([  1,  32, 729])"
            ]
          },
          "metadata": {},
          "execution_count": 34
        }
      ]
    },
    {
      "cell_type": "code",
      "source": [
        "ten_1 +1"
      ],
      "metadata": {
        "colab": {
          "base_uri": "https://localhost:8080/"
        },
        "id": "lvxOSxm_y-uK",
        "outputId": "af61f564-492e-4349-9de2-e9c9d357c213"
      },
      "execution_count": 35,
      "outputs": [
        {
          "output_type": "execute_result",
          "data": {
            "text/plain": [
              "tensor([2, 3, 4])"
            ]
          },
          "metadata": {},
          "execution_count": 35
        }
      ]
    },
    {
      "cell_type": "markdown",
      "source": [
        "## Matrix Multiplication"
      ],
      "metadata": {
        "id": "v-YJWIb-zCpn"
      }
    },
    {
      "cell_type": "code",
      "source": [
        "ten_1 = torch.rand([3,4])\n",
        "ten_2 = torch.rand([4,3])\n",
        "ten_1,ten_2"
      ],
      "metadata": {
        "colab": {
          "base_uri": "https://localhost:8080/"
        },
        "id": "2TyvQrzG0AvF",
        "outputId": "0b9e6aef-f608-4b1f-e48c-b8f4647e7824"
      },
      "execution_count": 36,
      "outputs": [
        {
          "output_type": "execute_result",
          "data": {
            "text/plain": [
              "(tensor([[0.4510, 0.9011, 0.7941, 0.7845],\n",
              "         [0.2099, 0.0381, 0.9122, 0.1063],\n",
              "         [0.5535, 0.1552, 0.9015, 0.3277]]),\n",
              " tensor([[0.9070, 0.8466, 0.7899],\n",
              "         [0.2701, 0.8909, 0.1779],\n",
              "         [0.0903, 0.3411, 0.9049],\n",
              "         [0.7792, 0.2365, 0.0589]]))"
            ]
          },
          "metadata": {},
          "execution_count": 36
        }
      ]
    },
    {
      "cell_type": "code",
      "source": [
        "# torch.matmul is used to get matmul results on tensor\n",
        "torch.matmul(ten_1,ten_2)"
      ],
      "metadata": {
        "colab": {
          "base_uri": "https://localhost:8080/"
        },
        "id": "puaOrlmU0AsI",
        "outputId": "71a09d2e-1e45-4b3e-90e7-78c6214d3d9c"
      },
      "execution_count": 37,
      "outputs": [
        {
          "output_type": "execute_result",
          "data": {
            "text/plain": [
              "tensor([[1.3355, 1.6410, 1.2814],\n",
              "        [0.3659, 0.5479, 1.0043],\n",
              "        [0.8808, 0.9919, 1.2999]])"
            ]
          },
          "metadata": {},
          "execution_count": 37
        }
      ]
    },
    {
      "cell_type": "code",
      "source": [
        "t1 = torch.rand(5)\n",
        "print(t1,t1.ndim, t1.shape)\n",
        "# t1 = torch.tensor([1,2,3])\n",
        "torch.matmul(t1,t1)"
      ],
      "metadata": {
        "colab": {
          "base_uri": "https://localhost:8080/"
        },
        "id": "YqqzfD190ApQ",
        "outputId": "0ba1a85f-fe6e-4567-d2f5-e711c21a05d4"
      },
      "execution_count": 38,
      "outputs": [
        {
          "output_type": "stream",
          "name": "stdout",
          "text": [
            "tensor([9.6259e-01, 7.5202e-01, 1.9819e-04, 4.9651e-01, 9.5978e-01]) 1 torch.Size([5])\n"
          ]
        },
        {
          "output_type": "execute_result",
          "data": {
            "text/plain": [
              "tensor(2.6598)"
            ]
          },
          "metadata": {},
          "execution_count": 38
        }
      ]
    },
    {
      "cell_type": "code",
      "source": [],
      "metadata": {
        "id": "6JApSZfdaa3F"
      },
      "execution_count": 38,
      "outputs": []
    },
    {
      "cell_type": "markdown",
      "source": [
        "### Check how fast matmul is vs loopin"
      ],
      "metadata": {
        "id": "e7zQbGEdaN13"
      }
    },
    {
      "cell_type": "code",
      "source": [
        "t1 = torch.rand(100000)"
      ],
      "metadata": {
        "id": "viSCjB-n0AUA"
      },
      "execution_count": 39,
      "outputs": []
    },
    {
      "cell_type": "code",
      "source": [
        "# matmul\n",
        "%%time\n",
        "torch.matmul(t1,t1)"
      ],
      "metadata": {
        "colab": {
          "base_uri": "https://localhost:8080/"
        },
        "id": "AkI_FG1G0AeS",
        "outputId": "01a912d8-58e0-4ca6-cc03-8dc0336a4554"
      },
      "execution_count": 40,
      "outputs": [
        {
          "output_type": "stream",
          "name": "stdout",
          "text": [
            "CPU times: user 66 µs, sys: 12 µs, total: 78 µs\n",
            "Wall time: 82.3 µs\n"
          ]
        },
        {
          "output_type": "execute_result",
          "data": {
            "text/plain": [
              "tensor(33293.1719)"
            ]
          },
          "metadata": {},
          "execution_count": 40
        }
      ]
    },
    {
      "cell_type": "code",
      "source": [
        "%%time\n",
        "value = 0\n",
        "for i in t1:\n",
        "  value += (i*i)\n",
        "value  # will have a slightly different result because of precision round off"
      ],
      "metadata": {
        "colab": {
          "base_uri": "https://localhost:8080/"
        },
        "id": "RP-zKmcb1xFu",
        "outputId": "6f687327-b8d2-435c-845d-fc5969715e71"
      },
      "execution_count": 41,
      "outputs": [
        {
          "output_type": "stream",
          "name": "stdout",
          "text": [
            "CPU times: user 887 ms, sys: 48.9 ms, total: 936 ms\n",
            "Wall time: 961 ms\n"
          ]
        },
        {
          "output_type": "execute_result",
          "data": {
            "text/plain": [
              "tensor(33292.9648)"
            ]
          },
          "metadata": {},
          "execution_count": 41
        }
      ]
    },
    {
      "cell_type": "code",
      "source": [
        "# Same as mnatmul\n",
        "%%time\n",
        "value = t1 @ t1\n",
        "value"
      ],
      "metadata": {
        "colab": {
          "base_uri": "https://localhost:8080/"
        },
        "id": "8cMP85DreSPY",
        "outputId": "d2b7d987-239c-4fd1-a676-c751ef368d56"
      },
      "execution_count": 42,
      "outputs": [
        {
          "output_type": "stream",
          "name": "stdout",
          "text": [
            "CPU times: user 144 µs, sys: 21 µs, total: 165 µs\n",
            "Wall time: 171 µs\n"
          ]
        },
        {
          "output_type": "execute_result",
          "data": {
            "text/plain": [
              "tensor(33293.1719)"
            ]
          },
          "metadata": {},
          "execution_count": 42
        }
      ]
    },
    {
      "cell_type": "markdown",
      "source": [
        "### Transpose can be used to fix shape errors sometimes"
      ],
      "metadata": {
        "id": "2lYQF0-3HFir"
      }
    },
    {
      "cell_type": "code",
      "source": [
        "t1 = torch.rand([3,4])\n",
        "t2 = torch.rand([3,4])"
      ],
      "metadata": {
        "id": "9cn99xLj1w-w"
      },
      "execution_count": 43,
      "outputs": []
    },
    {
      "cell_type": "code",
      "source": [
        "print(t1.shape, t2.shape)\n",
        "t1, t2"
      ],
      "metadata": {
        "id": "bttGs8nS1wyo",
        "colab": {
          "base_uri": "https://localhost:8080/"
        },
        "outputId": "d14c3e4f-e542-4c14-b739-bf15d9b1f5a1"
      },
      "execution_count": 44,
      "outputs": [
        {
          "output_type": "stream",
          "name": "stdout",
          "text": [
            "torch.Size([3, 4]) torch.Size([3, 4])\n"
          ]
        },
        {
          "output_type": "execute_result",
          "data": {
            "text/plain": [
              "(tensor([[2.0010e-01, 8.3914e-01, 4.9475e-01, 2.8877e-01],\n",
              "         [3.3393e-01, 2.1599e-01, 2.1980e-01, 5.6596e-01],\n",
              "         [1.8853e-01, 2.3544e-01, 7.9554e-04, 7.1439e-01]]),\n",
              " tensor([[0.2840, 0.7116, 0.9128, 0.4094],\n",
              "         [0.3848, 0.8858, 0.5656, 0.5172],\n",
              "         [0.1306, 0.0230, 0.7985, 0.3610]]))"
            ]
          },
          "metadata": {},
          "execution_count": 44
        }
      ]
    },
    {
      "cell_type": "code",
      "source": [
        "torch.matmul(t2,t1.T)   #torch.matmul(t2,t1)  -- this will throw an error as shapes are not compatible"
      ],
      "metadata": {
        "id": "oR0lZQep1w7D",
        "colab": {
          "base_uri": "https://localhost:8080/"
        },
        "outputId": "a71f5d94-4049-4c66-c4b3-bbca516351ab"
      },
      "execution_count": 45,
      "outputs": [
        {
          "output_type": "execute_result",
          "data": {
            "text/plain": [
              "tensor([[1.2238, 0.6809, 0.5143],\n",
              "        [1.2495, 0.7369, 0.6510],\n",
              "        [0.5447, 0.4284, 0.2885]])"
            ]
          },
          "metadata": {},
          "execution_count": 45
        }
      ]
    },
    {
      "cell_type": "markdown",
      "source": [
        "# 6.Tensor Aggregation -- min,max, sum, mean, count"
      ],
      "metadata": {
        "id": "QFINtHTFg53S"
      }
    },
    {
      "cell_type": "code",
      "source": [
        "# torch generate random integers of shape 3,4\n",
        "t1 = torch.randint(low=0,high=10,size=(3,4))\n",
        "t1"
      ],
      "metadata": {
        "colab": {
          "base_uri": "https://localhost:8080/"
        },
        "id": "xGmEnwi0GwSu",
        "outputId": "3772919e-0296-4851-8007-cc122264bec0"
      },
      "execution_count": 46,
      "outputs": [
        {
          "output_type": "execute_result",
          "data": {
            "text/plain": [
              "tensor([[8, 0, 1, 6],\n",
              "        [9, 4, 2, 6],\n",
              "        [8, 3, 9, 4]])"
            ]
          },
          "metadata": {},
          "execution_count": 46
        }
      ]
    },
    {
      "cell_type": "code",
      "source": [
        "t1.dtype"
      ],
      "metadata": {
        "colab": {
          "base_uri": "https://localhost:8080/"
        },
        "id": "yFE3eptDC3-K",
        "outputId": "a9fc86f5-0aa7-4560-e755-140291475cad"
      },
      "execution_count": 47,
      "outputs": [
        {
          "output_type": "execute_result",
          "data": {
            "text/plain": [
              "torch.int64"
            ]
          },
          "metadata": {},
          "execution_count": 47
        }
      ]
    },
    {
      "cell_type": "code",
      "source": [
        "# To get mean, we need to specify what dtype the result is going to be!\n",
        "torch.mean(t1, dtype=torch.float, dim = 0)"
      ],
      "metadata": {
        "colab": {
          "base_uri": "https://localhost:8080/"
        },
        "id": "-prL57GiCl3Y",
        "outputId": "9ea487ee-3338-4523-d2b1-1bbcbae81bbb"
      },
      "execution_count": 48,
      "outputs": [
        {
          "output_type": "execute_result",
          "data": {
            "text/plain": [
              "tensor([8.3333, 2.3333, 4.0000, 5.3333])"
            ]
          },
          "metadata": {},
          "execution_count": 48
        }
      ]
    },
    {
      "cell_type": "code",
      "source": [
        "# mean of tensor -- Need to make sure datatype should be float32\n",
        "torch.mean(t1,dtype=torch.float32, dim=1)"
      ],
      "metadata": {
        "colab": {
          "base_uri": "https://localhost:8080/"
        },
        "id": "gs-LXzFwGwVL",
        "outputId": "f0e94e17-1ce0-42fb-9fca-eda5b8e78052"
      },
      "execution_count": 49,
      "outputs": [
        {
          "output_type": "execute_result",
          "data": {
            "text/plain": [
              "tensor([3.7500, 5.2500, 6.0000])"
            ]
          },
          "metadata": {},
          "execution_count": 49
        }
      ]
    },
    {
      "cell_type": "code",
      "source": [
        "torch.min(t1), torch.max(t1), torch.sum(t1), torch.mean(t1,dtype=torch.float32)"
      ],
      "metadata": {
        "colab": {
          "base_uri": "https://localhost:8080/"
        },
        "id": "yxF3nkv-GwaP",
        "outputId": "68a4e24c-c350-4e45-c435-a312306afa7b"
      },
      "execution_count": 50,
      "outputs": [
        {
          "output_type": "execute_result",
          "data": {
            "text/plain": [
              "(tensor(0), tensor(9), tensor(60), tensor(5.))"
            ]
          },
          "metadata": {},
          "execution_count": 50
        }
      ]
    },
    {
      "cell_type": "code",
      "source": [
        "# count all elements in tensor -- non zero and shape\n",
        "t1.shape,torch.count_nonzero(t1)"
      ],
      "metadata": {
        "colab": {
          "base_uri": "https://localhost:8080/"
        },
        "id": "CGHKTVM0JaPq",
        "outputId": "4e88b7f7-0084-419e-891a-5a22937757b9"
      },
      "execution_count": 51,
      "outputs": [
        {
          "output_type": "execute_result",
          "data": {
            "text/plain": [
              "(torch.Size([3, 4]), tensor(11))"
            ]
          },
          "metadata": {},
          "execution_count": 51
        }
      ]
    },
    {
      "cell_type": "code",
      "source": [
        "torch.argmax(t1), torch.argmin(t1)"
      ],
      "metadata": {
        "colab": {
          "base_uri": "https://localhost:8080/"
        },
        "id": "_tJq5WBlKJ8j",
        "outputId": "9f5009ba-1f14-4bab-ee31-a422f68550af"
      },
      "execution_count": 52,
      "outputs": [
        {
          "output_type": "execute_result",
          "data": {
            "text/plain": [
              "(tensor(4), tensor(1))"
            ]
          },
          "metadata": {},
          "execution_count": 52
        }
      ]
    },
    {
      "cell_type": "markdown",
      "source": [
        "# 7.Reshape, stacking, squeezing and unsqueezing tensors\n",
        "\n",
        "* Reshape - changes shape of a tensor\n",
        "* View -  return view of an original tensor but keeps the memory as original\n",
        "* Stacking - combines multiple tensors together -- vstack and hstack\n",
        "* Squeeze - removes all 1 dims from the tensor\n",
        "* Unsqueeze - Add a dimension\n",
        "* permute -- rearranges the shape of a target tensor in a specified order"
      ],
      "metadata": {
        "id": "JdmvhvMqLteD"
      }
    },
    {
      "cell_type": "code",
      "source": [
        "t1 = torch.randint(low=0,high=10,size=(3,4))\n",
        "t1"
      ],
      "metadata": {
        "colab": {
          "base_uri": "https://localhost:8080/"
        },
        "id": "5XYhI3smDtuw",
        "outputId": "a349d075-bc9b-4900-87f9-935eb98d2794"
      },
      "execution_count": 53,
      "outputs": [
        {
          "output_type": "execute_result",
          "data": {
            "text/plain": [
              "tensor([[9, 3, 3, 1],\n",
              "        [1, 3, 1, 7],\n",
              "        [2, 4, 0, 4]])"
            ]
          },
          "metadata": {},
          "execution_count": 53
        }
      ]
    },
    {
      "cell_type": "code",
      "source": [
        "# Reshape - changes shape of a tensor\n",
        "new_t = t1.reshape(2,6)\n",
        "t1, new_t"
      ],
      "metadata": {
        "colab": {
          "base_uri": "https://localhost:8080/"
        },
        "id": "3Dm9AuOmLQUn",
        "outputId": "e55d305d-ab4c-4265-9a66-88d9ce712181"
      },
      "execution_count": 54,
      "outputs": [
        {
          "output_type": "execute_result",
          "data": {
            "text/plain": [
              "(tensor([[9, 3, 3, 1],\n",
              "         [1, 3, 1, 7],\n",
              "         [2, 4, 0, 4]]),\n",
              " tensor([[9, 3, 3, 1, 1, 3],\n",
              "         [1, 7, 2, 4, 0, 4]]))"
            ]
          },
          "metadata": {},
          "execution_count": 54
        }
      ]
    },
    {
      "cell_type": "code",
      "source": [
        "# View - return view of an original tensor but keeps the memory as original\n",
        "t2 = t1.view(6,2)\n",
        "t2,t1"
      ],
      "metadata": {
        "colab": {
          "base_uri": "https://localhost:8080/"
        },
        "id": "sbJY_JDdLX-Z",
        "outputId": "a8b07dad-1f3c-491b-85a9-b1a9c14f4377"
      },
      "execution_count": 55,
      "outputs": [
        {
          "output_type": "execute_result",
          "data": {
            "text/plain": [
              "(tensor([[9, 3],\n",
              "         [3, 1],\n",
              "         [1, 3],\n",
              "         [1, 7],\n",
              "         [2, 4],\n",
              "         [0, 4]]),\n",
              " tensor([[9, 3, 3, 1],\n",
              "         [1, 3, 1, 7],\n",
              "         [2, 4, 0, 4]]))"
            ]
          },
          "metadata": {},
          "execution_count": 55
        }
      ]
    },
    {
      "cell_type": "markdown",
      "source": [
        "Changing the view changes original tensor as they share the same memory"
      ],
      "metadata": {
        "id": "AIMXmz3oLX7C"
      }
    },
    {
      "cell_type": "code",
      "source": [
        "t2[0,0]=60\n",
        "t2,t1"
      ],
      "metadata": {
        "colab": {
          "base_uri": "https://localhost:8080/"
        },
        "id": "vnZhp9kBLX4L",
        "outputId": "11daa74b-284c-44e0-951a-770dfc2582cb"
      },
      "execution_count": 56,
      "outputs": [
        {
          "output_type": "execute_result",
          "data": {
            "text/plain": [
              "(tensor([[60,  3],\n",
              "         [ 3,  1],\n",
              "         [ 1,  3],\n",
              "         [ 1,  7],\n",
              "         [ 2,  4],\n",
              "         [ 0,  4]]),\n",
              " tensor([[60,  3,  3,  1],\n",
              "         [ 1,  3,  1,  7],\n",
              "         [ 2,  4,  0,  4]]))"
            ]
          },
          "metadata": {},
          "execution_count": 56
        }
      ]
    },
    {
      "cell_type": "markdown",
      "source": [
        "Stacking - combines multiple tensors together -- vstack and hstack"
      ],
      "metadata": {
        "id": "7EtLswkeLX1g"
      }
    },
    {
      "cell_type": "code",
      "source": [
        "# hstack and vstack is to stack on each other\n",
        "t3 = torch.vstack([t1,t1])\n",
        "t3, t3.shape,"
      ],
      "metadata": {
        "colab": {
          "base_uri": "https://localhost:8080/"
        },
        "id": "opK3GMdiLXvK",
        "outputId": "8264c249-8d89-4595-8470-a42422fdbbd2"
      },
      "execution_count": 57,
      "outputs": [
        {
          "output_type": "execute_result",
          "data": {
            "text/plain": [
              "(tensor([[60,  3,  3,  1],\n",
              "         [ 1,  3,  1,  7],\n",
              "         [ 2,  4,  0,  4],\n",
              "         [60,  3,  3,  1],\n",
              "         [ 1,  3,  1,  7],\n",
              "         [ 2,  4,  0,  4]]),\n",
              " torch.Size([6, 4]))"
            ]
          },
          "metadata": {},
          "execution_count": 57
        }
      ]
    },
    {
      "cell_type": "code",
      "source": [
        "#hstack and vstack is to stack on each other\n",
        "t3 = torch.hstack([t1,t1])\n",
        "t3, t3.shape"
      ],
      "metadata": {
        "colab": {
          "base_uri": "https://localhost:8080/"
        },
        "id": "W-EC0Bc1EwRV",
        "outputId": "2c918973-8d58-417b-8a80-34ec7f05d8b2"
      },
      "execution_count": 58,
      "outputs": [
        {
          "output_type": "execute_result",
          "data": {
            "text/plain": [
              "(tensor([[60,  3,  3,  1, 60,  3,  3,  1],\n",
              "         [ 1,  3,  1,  7,  1,  3,  1,  7],\n",
              "         [ 2,  4,  0,  4,  2,  4,  0,  4]]),\n",
              " torch.Size([3, 8]))"
            ]
          },
          "metadata": {},
          "execution_count": 58
        }
      ]
    },
    {
      "cell_type": "code",
      "source": [
        "t4 = torch.stack([t1,t1], dim = 0)\n",
        "t4, t4.shape"
      ],
      "metadata": {
        "colab": {
          "base_uri": "https://localhost:8080/"
        },
        "id": "agAL3CnULXru",
        "outputId": "d84dbca2-3ab8-401a-9a9f-7d9373106b2f"
      },
      "execution_count": 59,
      "outputs": [
        {
          "output_type": "execute_result",
          "data": {
            "text/plain": [
              "(tensor([[[60,  3,  3,  1],\n",
              "          [ 1,  3,  1,  7],\n",
              "          [ 2,  4,  0,  4]],\n",
              " \n",
              "         [[60,  3,  3,  1],\n",
              "          [ 1,  3,  1,  7],\n",
              "          [ 2,  4,  0,  4]]]),\n",
              " torch.Size([2, 3, 4]))"
            ]
          },
          "metadata": {},
          "execution_count": 59
        }
      ]
    },
    {
      "cell_type": "code",
      "source": [
        "torch.rand([1,4]).shape"
      ],
      "metadata": {
        "colab": {
          "base_uri": "https://localhost:8080/"
        },
        "id": "XJxGhplrQ3DX",
        "outputId": "a0d232df-afb4-4e8a-952e-e135b11de113"
      },
      "execution_count": 60,
      "outputs": [
        {
          "output_type": "execute_result",
          "data": {
            "text/plain": [
              "torch.Size([1, 4])"
            ]
          },
          "metadata": {},
          "execution_count": 60
        }
      ]
    },
    {
      "cell_type": "code",
      "source": [
        "tensor_1_4 = torch.rand([1,4])\n",
        "tensor_1_4_v2 = torch.rand([1,4])"
      ],
      "metadata": {
        "id": "xV-5moYBUcRN"
      },
      "execution_count": 61,
      "outputs": []
    },
    {
      "cell_type": "code",
      "source": [
        "t_stacked = torch.stack([tensor_1_4, tensor_1_4_v2])\n",
        "t_stacked, t_stacked.shape"
      ],
      "metadata": {
        "colab": {
          "base_uri": "https://localhost:8080/"
        },
        "id": "lXbc4GClUcNo",
        "outputId": "7bb7a6c6-102f-49b0-c697-e5b0254bc929"
      },
      "execution_count": 62,
      "outputs": [
        {
          "output_type": "execute_result",
          "data": {
            "text/plain": [
              "(tensor([[[0.1686, 0.4593, 0.6839, 0.8879]],\n",
              " \n",
              "         [[0.4598, 0.5133, 0.8600, 0.2921]]]),\n",
              " torch.Size([2, 1, 4]))"
            ]
          },
          "metadata": {},
          "execution_count": 62
        }
      ]
    },
    {
      "cell_type": "code",
      "source": [
        "torch.squeeze(t_stacked), torch.squeeze(t_stacked).shape"
      ],
      "metadata": {
        "colab": {
          "base_uri": "https://localhost:8080/"
        },
        "id": "rSNL5geOUcK8",
        "outputId": "67b9cce2-81c9-4d83-882f-71b2c339a81f"
      },
      "execution_count": 63,
      "outputs": [
        {
          "output_type": "execute_result",
          "data": {
            "text/plain": [
              "(tensor([[0.1686, 0.4593, 0.6839, 0.8879],\n",
              "         [0.4598, 0.5133, 0.8600, 0.2921]]),\n",
              " torch.Size([2, 4]))"
            ]
          },
          "metadata": {},
          "execution_count": 63
        }
      ]
    },
    {
      "cell_type": "markdown",
      "source": [
        "Squeeze removes all single dimensions from a tensor\n",
        "\n",
        "Unsqueeze adds a dim"
      ],
      "metadata": {
        "id": "O6B5xGBlQ2-j"
      }
    },
    {
      "cell_type": "code",
      "source": [
        "x = torch.zeros(2, 1, 2, 1, 2)\n",
        "print(x.size())\n"
      ],
      "metadata": {
        "colab": {
          "base_uri": "https://localhost:8080/"
        },
        "id": "rUsBYCUrUcIZ",
        "outputId": "56d7d025-83c7-48c4-fc20-3c7a06d97afc"
      },
      "execution_count": 64,
      "outputs": [
        {
          "output_type": "stream",
          "name": "stdout",
          "text": [
            "torch.Size([2, 1, 2, 1, 2])\n"
          ]
        }
      ]
    },
    {
      "cell_type": "code",
      "source": [
        "y = torch.squeeze(x)\n",
        "print(y.size())"
      ],
      "metadata": {
        "colab": {
          "base_uri": "https://localhost:8080/"
        },
        "id": "HT2-LO1zedTe",
        "outputId": "6b935cdc-87ac-4048-cf14-9e40979494ef"
      },
      "execution_count": 65,
      "outputs": [
        {
          "output_type": "stream",
          "name": "stdout",
          "text": [
            "torch.Size([2, 2, 2])\n"
          ]
        }
      ]
    },
    {
      "cell_type": "code",
      "source": [
        "y = torch.squeeze(x, 0)\n",
        "print(y.size())"
      ],
      "metadata": {
        "colab": {
          "base_uri": "https://localhost:8080/"
        },
        "id": "DEJW7IHAegUn",
        "outputId": "13228d07-8f93-4187-e3cf-85bb01f3926b"
      },
      "execution_count": 66,
      "outputs": [
        {
          "output_type": "stream",
          "name": "stdout",
          "text": [
            "torch.Size([2, 1, 2, 1, 2])\n"
          ]
        }
      ]
    },
    {
      "cell_type": "code",
      "source": [
        "y = torch.squeeze(x, 1)\n",
        "print(y.size())"
      ],
      "metadata": {
        "colab": {
          "base_uri": "https://localhost:8080/"
        },
        "id": "otNdYKpOeh_Q",
        "outputId": "a7539065-c7fe-46dc-b1ec-7b1b58850f8a"
      },
      "execution_count": 67,
      "outputs": [
        {
          "output_type": "stream",
          "name": "stdout",
          "text": [
            "torch.Size([2, 2, 1, 2])\n"
          ]
        }
      ]
    },
    {
      "cell_type": "code",
      "source": [
        "y = torch.squeeze(x, (1, 2, 3))\n",
        "y"
      ],
      "metadata": {
        "colab": {
          "base_uri": "https://localhost:8080/"
        },
        "id": "-TGEGncVejo1",
        "outputId": "3e1bc8e3-7a43-470c-e417-87307b2ae89e"
      },
      "execution_count": 68,
      "outputs": [
        {
          "output_type": "execute_result",
          "data": {
            "text/plain": [
              "tensor([[[0., 0.],\n",
              "         [0., 0.]],\n",
              "\n",
              "        [[0., 0.],\n",
              "         [0., 0.]]])"
            ]
          },
          "metadata": {},
          "execution_count": 68
        }
      ]
    },
    {
      "cell_type": "code",
      "source": [
        "x = torch.zeros(2, 1, 2, 1, 2)\n",
        "x,x.ndim"
      ],
      "metadata": {
        "colab": {
          "base_uri": "https://localhost:8080/"
        },
        "id": "oBM2m_48F_bL",
        "outputId": "9ae0e3bb-f4c4-4fb2-90af-929ded9d0353"
      },
      "execution_count": 69,
      "outputs": [
        {
          "output_type": "execute_result",
          "data": {
            "text/plain": [
              "(tensor([[[[[0., 0.]],\n",
              " \n",
              "           [[0., 0.]]]],\n",
              " \n",
              " \n",
              " \n",
              "         [[[[0., 0.]],\n",
              " \n",
              "           [[0., 0.]]]]]),\n",
              " 5)"
            ]
          },
          "metadata": {},
          "execution_count": 69
        }
      ]
    },
    {
      "cell_type": "code",
      "source": [
        "x2 = x.squeeze()\n",
        "x2,x2.ndim"
      ],
      "metadata": {
        "colab": {
          "base_uri": "https://localhost:8080/"
        },
        "id": "W9nxU43AGQKT",
        "outputId": "f956909f-1e4f-4a06-ff43-277fe7bc24a5"
      },
      "execution_count": 70,
      "outputs": [
        {
          "output_type": "execute_result",
          "data": {
            "text/plain": [
              "(tensor([[[0., 0.],\n",
              "          [0., 0.]],\n",
              " \n",
              "         [[0., 0.],\n",
              "          [0., 0.]]]),\n",
              " 3)"
            ]
          },
          "metadata": {},
          "execution_count": 70
        }
      ]
    },
    {
      "cell_type": "markdown",
      "source": [
        "Another example of squeeze -- removes all with dim 1"
      ],
      "metadata": {
        "id": "dlhz9ESKUcF0"
      }
    },
    {
      "cell_type": "code",
      "source": [
        "x = torch.arange(1,11)\n",
        "x2 = x.reshape([1,10])\n",
        "x2, x2.shape, x2.ndim"
      ],
      "metadata": {
        "colab": {
          "base_uri": "https://localhost:8080/"
        },
        "id": "SYqEy4W0UcAi",
        "outputId": "37f80e6e-507d-4979-85d5-c343e75743a2"
      },
      "execution_count": 71,
      "outputs": [
        {
          "output_type": "execute_result",
          "data": {
            "text/plain": [
              "(tensor([[ 1,  2,  3,  4,  5,  6,  7,  8,  9, 10]]), torch.Size([1, 10]), 2)"
            ]
          },
          "metadata": {},
          "execution_count": 71
        }
      ]
    },
    {
      "cell_type": "code",
      "source": [
        "x3 = x2.squeeze()\n",
        "x3, x3.shape, x3.ndim"
      ],
      "metadata": {
        "colab": {
          "base_uri": "https://localhost:8080/"
        },
        "id": "RRezKBSgUb9w",
        "outputId": "627abb6e-76a2-4328-db51-53b6936b4005"
      },
      "execution_count": 72,
      "outputs": [
        {
          "output_type": "execute_result",
          "data": {
            "text/plain": [
              "(tensor([ 1,  2,  3,  4,  5,  6,  7,  8,  9, 10]), torch.Size([10]), 1)"
            ]
          },
          "metadata": {},
          "execution_count": 72
        }
      ]
    },
    {
      "cell_type": "code",
      "source": [
        "x = torch.randint(low = 0, high = 10, size = (3,1,1,4))\n",
        "x, x.shape, x.ndim"
      ],
      "metadata": {
        "colab": {
          "base_uri": "https://localhost:8080/"
        },
        "id": "8_6dbV9bUcDL",
        "outputId": "575782e7-6fad-477b-9fb0-d312da399c89"
      },
      "execution_count": 73,
      "outputs": [
        {
          "output_type": "execute_result",
          "data": {
            "text/plain": [
              "(tensor([[[[0, 1, 7, 9]]],\n",
              " \n",
              " \n",
              "         [[[5, 6, 9, 8]]],\n",
              " \n",
              " \n",
              "         [[[5, 5, 1, 0]]]]),\n",
              " torch.Size([3, 1, 1, 4]),\n",
              " 4)"
            ]
          },
          "metadata": {},
          "execution_count": 73
        }
      ]
    },
    {
      "cell_type": "code",
      "source": [
        "x2 = x.squeeze()\n",
        "x2"
      ],
      "metadata": {
        "colab": {
          "base_uri": "https://localhost:8080/"
        },
        "id": "ZLsVIbEMUb7V",
        "outputId": "d4b5f0e1-7408-4677-f16b-1566694bbce9"
      },
      "execution_count": 74,
      "outputs": [
        {
          "output_type": "execute_result",
          "data": {
            "text/plain": [
              "tensor([[0, 1, 7, 9],\n",
              "        [5, 6, 9, 8],\n",
              "        [5, 5, 1, 0]])"
            ]
          },
          "metadata": {},
          "execution_count": 74
        }
      ]
    },
    {
      "cell_type": "code",
      "source": [
        "torch.squeeze(x,2)"
      ],
      "metadata": {
        "colab": {
          "base_uri": "https://localhost:8080/"
        },
        "id": "lHQyxPLRUb4s",
        "outputId": "d373c9fe-fd7b-44cc-94d3-56b2b5d964b5"
      },
      "execution_count": 75,
      "outputs": [
        {
          "output_type": "execute_result",
          "data": {
            "text/plain": [
              "tensor([[[0, 1, 7, 9]],\n",
              "\n",
              "        [[5, 6, 9, 8]],\n",
              "\n",
              "        [[5, 5, 1, 0]]])"
            ]
          },
          "metadata": {},
          "execution_count": 75
        }
      ]
    },
    {
      "cell_type": "markdown",
      "source": [
        "Unsqueeze -- Adds a dimension"
      ],
      "metadata": {
        "id": "FAHTAqEdUb14"
      }
    },
    {
      "cell_type": "code",
      "source": [
        "x2 = torch.randint(low = 0, high = 10, size = (3,4))\n",
        "x2"
      ],
      "metadata": {
        "colab": {
          "base_uri": "https://localhost:8080/"
        },
        "id": "0ZmRW6P9Ywwo",
        "outputId": "402aaf7d-f087-4a26-ded9-90f473485698"
      },
      "execution_count": 76,
      "outputs": [
        {
          "output_type": "execute_result",
          "data": {
            "text/plain": [
              "tensor([[7, 3, 2, 3],\n",
              "        [9, 9, 7, 5],\n",
              "        [8, 9, 2, 1]])"
            ]
          },
          "metadata": {},
          "execution_count": 76
        }
      ]
    },
    {
      "cell_type": "code",
      "source": [
        "torch.unsqueeze(x2,2)"
      ],
      "metadata": {
        "colab": {
          "base_uri": "https://localhost:8080/"
        },
        "collapsed": true,
        "id": "uZlOFW6rHRFC",
        "outputId": "4b9cf50c-071d-4842-aa82-644e6d83bb52"
      },
      "execution_count": 77,
      "outputs": [
        {
          "output_type": "execute_result",
          "data": {
            "text/plain": [
              "tensor([[[7],\n",
              "         [3],\n",
              "         [2],\n",
              "         [3]],\n",
              "\n",
              "        [[9],\n",
              "         [9],\n",
              "         [7],\n",
              "         [5]],\n",
              "\n",
              "        [[8],\n",
              "         [9],\n",
              "         [2],\n",
              "         [1]]])"
            ]
          },
          "metadata": {},
          "execution_count": 77
        }
      ]
    },
    {
      "cell_type": "code",
      "source": [
        "torch.unsqueeze(x2,1)"
      ],
      "metadata": {
        "colab": {
          "base_uri": "https://localhost:8080/"
        },
        "id": "DD2TWnNzHtc9",
        "outputId": "e520a9b4-df30-420e-d338-cc674b03c1d7"
      },
      "execution_count": 78,
      "outputs": [
        {
          "output_type": "execute_result",
          "data": {
            "text/plain": [
              "tensor([[[7, 3, 2, 3]],\n",
              "\n",
              "        [[9, 9, 7, 5]],\n",
              "\n",
              "        [[8, 9, 2, 1]]])"
            ]
          },
          "metadata": {},
          "execution_count": 78
        }
      ]
    },
    {
      "cell_type": "code",
      "source": [
        "torch.unsqueeze(x2,0)"
      ],
      "metadata": {
        "colab": {
          "base_uri": "https://localhost:8080/"
        },
        "id": "bxVEiTR8IErh",
        "outputId": "25d3a76f-f5f6-41bc-e917-07ffa1cfddfe"
      },
      "execution_count": 79,
      "outputs": [
        {
          "output_type": "execute_result",
          "data": {
            "text/plain": [
              "tensor([[[7, 3, 2, 3],\n",
              "         [9, 9, 7, 5],\n",
              "         [8, 9, 2, 1]]])"
            ]
          },
          "metadata": {},
          "execution_count": 79
        }
      ]
    },
    {
      "cell_type": "code",
      "source": [
        "torch.unsqueeze(x2,2).shape,torch.unsqueeze(x2,1).shape, torch.unsqueeze(x2,0).shape"
      ],
      "metadata": {
        "colab": {
          "base_uri": "https://localhost:8080/"
        },
        "id": "IL_a9b-8UbzS",
        "outputId": "ee1e39a3-f55a-4e42-b741-79e88c8033c6"
      },
      "execution_count": 80,
      "outputs": [
        {
          "output_type": "execute_result",
          "data": {
            "text/plain": [
              "(torch.Size([3, 4, 1]), torch.Size([3, 1, 4]), torch.Size([1, 3, 4]))"
            ]
          },
          "metadata": {},
          "execution_count": 80
        }
      ]
    },
    {
      "cell_type": "markdown",
      "source": [
        "permute -- rearranges the shape of a target tensor in a specified order"
      ],
      "metadata": {
        "id": "zNMomF4VUbwm"
      }
    },
    {
      "cell_type": "code",
      "source": [
        "# Permute means reorder dims\n",
        "x = torch.randn([1,5,3])\n",
        "x, x.shape, x.ndim"
      ],
      "metadata": {
        "colab": {
          "base_uri": "https://localhost:8080/"
        },
        "id": "gDsrXvavZgny",
        "outputId": "1a55e0cc-0d9d-4137-cccc-d8d953a0bfd4"
      },
      "execution_count": 81,
      "outputs": [
        {
          "output_type": "execute_result",
          "data": {
            "text/plain": [
              "(tensor([[[ 2.0435,  0.3715,  0.2460],\n",
              "          [ 0.4535, -0.7348, -0.8552],\n",
              "          [ 1.0905,  0.2767,  0.2745],\n",
              "          [-0.3210,  0.8202, -0.7710],\n",
              "          [ 1.0732, -0.0748,  2.2483]]]),\n",
              " torch.Size([1, 5, 3]),\n",
              " 3)"
            ]
          },
          "metadata": {},
          "execution_count": 81
        }
      ]
    },
    {
      "cell_type": "code",
      "source": [
        "x2 = x.permute(2,0,1)\n",
        "x2, x2.shape, x2.ndim"
      ],
      "metadata": {
        "colab": {
          "base_uri": "https://localhost:8080/"
        },
        "id": "84oFDP7lZgqG",
        "outputId": "9623fdb5-e7e2-4b82-e72e-2275c8ba8d35"
      },
      "execution_count": 82,
      "outputs": [
        {
          "output_type": "execute_result",
          "data": {
            "text/plain": [
              "(tensor([[[ 2.0435,  0.4535,  1.0905, -0.3210,  1.0732]],\n",
              " \n",
              "         [[ 0.3715, -0.7348,  0.2767,  0.8202, -0.0748]],\n",
              " \n",
              "         [[ 0.2460, -0.8552,  0.2745, -0.7710,  2.2483]]]),\n",
              " torch.Size([3, 1, 5]),\n",
              " 3)"
            ]
          },
          "metadata": {},
          "execution_count": 82
        }
      ]
    },
    {
      "cell_type": "markdown",
      "source": [
        "# 8.Indexing (select data from Tensors)"
      ],
      "metadata": {
        "id": "UvG4QM_iZgsp"
      }
    },
    {
      "cell_type": "code",
      "source": [
        "x = torch.randint(low = 0, high = 20, size = (3,4))\n",
        "x, x.shape, x.ndim"
      ],
      "metadata": {
        "colab": {
          "base_uri": "https://localhost:8080/"
        },
        "id": "Cyjzv5mwB8ZJ",
        "outputId": "9f3a8cea-225e-44b5-fbc3-6ad22f63f335"
      },
      "execution_count": 83,
      "outputs": [
        {
          "output_type": "execute_result",
          "data": {
            "text/plain": [
              "(tensor([[10, 13,  7,  2],\n",
              "         [16, 13,  8,  0],\n",
              "         [19, 10,  8, 15]]),\n",
              " torch.Size([3, 4]),\n",
              " 2)"
            ]
          },
          "metadata": {},
          "execution_count": 83
        }
      ]
    },
    {
      "cell_type": "code",
      "source": [
        "x[0]"
      ],
      "metadata": {
        "colab": {
          "base_uri": "https://localhost:8080/"
        },
        "id": "ROP34vTLB8bb",
        "outputId": "603fbb60-1517-47e2-d986-d8acfb0986c0"
      },
      "execution_count": 84,
      "outputs": [
        {
          "output_type": "execute_result",
          "data": {
            "text/plain": [
              "tensor([10, 13,  7,  2])"
            ]
          },
          "metadata": {},
          "execution_count": 84
        }
      ]
    },
    {
      "cell_type": "code",
      "source": [
        "x2 = x.reshape(1,3,4)\n",
        "x2, x2.shape, x2.ndim"
      ],
      "metadata": {
        "colab": {
          "base_uri": "https://localhost:8080/"
        },
        "id": "25Jag50GB8eF",
        "outputId": "2ada9770-f560-4d0c-c12d-86317c158653"
      },
      "execution_count": 85,
      "outputs": [
        {
          "output_type": "execute_result",
          "data": {
            "text/plain": [
              "(tensor([[[10, 13,  7,  2],\n",
              "          [16, 13,  8,  0],\n",
              "          [19, 10,  8, 15]]]),\n",
              " torch.Size([1, 3, 4]),\n",
              " 3)"
            ]
          },
          "metadata": {},
          "execution_count": 85
        }
      ]
    },
    {
      "cell_type": "code",
      "source": [
        "x2[0],x2[0][0], x2[0][0][0]"
      ],
      "metadata": {
        "colab": {
          "base_uri": "https://localhost:8080/"
        },
        "id": "zUUU7AmNB8hK",
        "outputId": "2bafeafc-d1df-4c72-f5c3-65366049795a"
      },
      "execution_count": 86,
      "outputs": [
        {
          "output_type": "execute_result",
          "data": {
            "text/plain": [
              "(tensor([[10, 13,  7,  2],\n",
              "         [16, 13,  8,  0],\n",
              "         [19, 10,  8, 15]]),\n",
              " tensor([10, 13,  7,  2]),\n",
              " tensor(10))"
            ]
          },
          "metadata": {},
          "execution_count": 86
        }
      ]
    },
    {
      "cell_type": "code",
      "source": [
        "x2[0][2][3]"
      ],
      "metadata": {
        "colab": {
          "base_uri": "https://localhost:8080/"
        },
        "id": "ZWkeKJnOB8jU",
        "outputId": "e3a0dbe2-81ab-43b5-a239-5969a55fa48a"
      },
      "execution_count": 87,
      "outputs": [
        {
          "output_type": "execute_result",
          "data": {
            "text/plain": [
              "tensor(15)"
            ]
          },
          "metadata": {},
          "execution_count": 87
        }
      ]
    },
    {
      "cell_type": "code",
      "source": [
        "x2[:,1,1]"
      ],
      "metadata": {
        "colab": {
          "base_uri": "https://localhost:8080/"
        },
        "id": "ojeY7Jp_B8lB",
        "outputId": "bd5e5c2a-ad1b-478c-959a-b8316af38d36"
      },
      "execution_count": 88,
      "outputs": [
        {
          "output_type": "execute_result",
          "data": {
            "text/plain": [
              "tensor([13])"
            ]
          },
          "metadata": {},
          "execution_count": 88
        }
      ]
    },
    {
      "cell_type": "markdown",
      "source": [
        "# 9.Pytorch and Numpy\n",
        "\n",
        "- Numpy is used for scientific computing\n",
        "- Numpy is crucial for torch\n",
        "- When converting np -> tensor, it keeps the default data type\n",
        "- Changing the np array after converting to tensor, doesn't change tensor(its not a view)\n",
        "   "
      ],
      "metadata": {
        "id": "WBC-3lY-LXm8"
      }
    },
    {
      "cell_type": "code",
      "source": [
        "import numpy as np"
      ],
      "metadata": {
        "id": "-AIOE_3nDN5x"
      },
      "execution_count": 89,
      "outputs": []
    },
    {
      "cell_type": "code",
      "source": [
        "np_array = np.arange(0.0,10.0)\n",
        "np_array"
      ],
      "metadata": {
        "colab": {
          "base_uri": "https://localhost:8080/"
        },
        "id": "mHuLfkF2DN31",
        "outputId": "95ad95b6-858a-4e4a-d2a9-6c476f294593"
      },
      "execution_count": 90,
      "outputs": [
        {
          "output_type": "execute_result",
          "data": {
            "text/plain": [
              "array([0., 1., 2., 3., 4., 5., 6., 7., 8., 9.])"
            ]
          },
          "metadata": {},
          "execution_count": 90
        }
      ]
    },
    {
      "cell_type": "code",
      "source": [
        "#convert to tensor from Numpy\n",
        "t1 =  torch.from_numpy(np_array)\n",
        "t1, t1.dtype"
      ],
      "metadata": {
        "colab": {
          "base_uri": "https://localhost:8080/"
        },
        "id": "BKxiR2NtDNzw",
        "outputId": "c6877612-6dfc-4f2a-e952-199e71600d52"
      },
      "execution_count": 91,
      "outputs": [
        {
          "output_type": "execute_result",
          "data": {
            "text/plain": [
              "(tensor([0., 1., 2., 3., 4., 5., 6., 7., 8., 9.], dtype=torch.float64),\n",
              " torch.float64)"
            ]
          },
          "metadata": {},
          "execution_count": 91
        }
      ]
    },
    {
      "cell_type": "code",
      "source": [
        "np_array = np_array + 5\n",
        "np_array, t1"
      ],
      "metadata": {
        "colab": {
          "base_uri": "https://localhost:8080/"
        },
        "id": "DXEnJOpXDNtt",
        "outputId": "789b4610-b899-4864-b7ea-1754d0ad6f7a"
      },
      "execution_count": 92,
      "outputs": [
        {
          "output_type": "execute_result",
          "data": {
            "text/plain": [
              "(array([ 5.,  6.,  7.,  8.,  9., 10., 11., 12., 13., 14.]),\n",
              " tensor([0., 1., 2., 3., 4., 5., 6., 7., 8., 9.], dtype=torch.float64))"
            ]
          },
          "metadata": {},
          "execution_count": 92
        }
      ]
    },
    {
      "cell_type": "code",
      "source": [
        "# temsor to numpy\n",
        "t2 = torch.randint(low = 0, high = 10, size = (1,10))\n",
        "t2, t2.dtype"
      ],
      "metadata": {
        "colab": {
          "base_uri": "https://localhost:8080/"
        },
        "id": "ZG1rp6-XDNkh",
        "outputId": "07a66a85-a7f9-40e4-9b21-edd3b308e2e7"
      },
      "execution_count": 93,
      "outputs": [
        {
          "output_type": "execute_result",
          "data": {
            "text/plain": [
              "(tensor([[6, 9, 1, 7, 8, 4, 1, 4, 3, 7]]), torch.int64)"
            ]
          },
          "metadata": {},
          "execution_count": 93
        }
      ]
    },
    {
      "cell_type": "code",
      "source": [
        "np_arr_new = t2.numpy()\n",
        "np_arr_new"
      ],
      "metadata": {
        "colab": {
          "base_uri": "https://localhost:8080/"
        },
        "id": "9WapxT-EpmYe",
        "outputId": "49ea7527-128b-43da-f5be-8b35ae547264"
      },
      "execution_count": 94,
      "outputs": [
        {
          "output_type": "execute_result",
          "data": {
            "text/plain": [
              "array([[6, 9, 1, 7, 8, 4, 1, 4, 3, 7]])"
            ]
          },
          "metadata": {},
          "execution_count": 94
        }
      ]
    },
    {
      "cell_type": "code",
      "source": [
        "# Change the new np array\n",
        "np_arr_new = np_arr_new + 10\n",
        "np_arr_new,t2"
      ],
      "metadata": {
        "colab": {
          "base_uri": "https://localhost:8080/"
        },
        "id": "zgfJTUyMpyhb",
        "outputId": "a6d49dac-e39b-4eaf-bc26-5fae9ad88cf3"
      },
      "execution_count": 95,
      "outputs": [
        {
          "output_type": "execute_result",
          "data": {
            "text/plain": [
              "(array([[16, 19, 11, 17, 18, 14, 11, 14, 13, 17]]),\n",
              " tensor([[6, 9, 1, 7, 8, 4, 1, 4, 3, 7]]))"
            ]
          },
          "metadata": {},
          "execution_count": 95
        }
      ]
    },
    {
      "cell_type": "markdown",
      "source": [
        "# 10.Reproduceability (setting the random seed)\n",
        "\n",
        "- Extra resources -- https://pytorch.org/docs/stable/notes/randomness.html"
      ],
      "metadata": {
        "id": "EKdC68TVqEls"
      }
    },
    {
      "cell_type": "code",
      "source": [
        "# Testing\n",
        "\n",
        "random_t_A = torch.rand(3,4)\n",
        "random_t_B = torch.rand(3,4)\n",
        "print(random_t_A)\n",
        "print(random_t_B)\n",
        "print(random_t_A == random_t_B)"
      ],
      "metadata": {
        "colab": {
          "base_uri": "https://localhost:8080/"
        },
        "id": "3qmYPPGJqEj9",
        "outputId": "85faa025-3b53-4a07-99c8-2966174f4f72"
      },
      "execution_count": 96,
      "outputs": [
        {
          "output_type": "stream",
          "name": "stdout",
          "text": [
            "tensor([[0.8574, 0.9812, 0.6676, 0.0623],\n",
            "        [0.2447, 0.9483, 0.3240, 0.8353],\n",
            "        [0.5625, 0.7079, 0.6159, 0.4485]])\n",
            "tensor([[0.8894, 0.3693, 0.4354, 0.3016],\n",
            "        [0.4859, 0.8547, 0.9936, 0.3492],\n",
            "        [0.1407, 0.6175, 0.2487, 0.6643]])\n",
            "tensor([[False, False, False, False],\n",
            "        [False, False, False, False],\n",
            "        [False, False, False, False]])\n"
          ]
        }
      ]
    },
    {
      "cell_type": "code",
      "source": [
        "# Add seed\n",
        "torch.manual_seed(0)\n",
        "random_t_A = torch.rand(3,4)\n",
        "torch.manual_seed(0)\n",
        "random_t_B = torch.rand(3,4)\n",
        "print(random_t_A)\n",
        "print(random_t_B)\n",
        "print(random_t_A == random_t_B)"
      ],
      "metadata": {
        "colab": {
          "base_uri": "https://localhost:8080/"
        },
        "id": "EOfSRswCqEiK",
        "outputId": "8446095f-451f-447a-b395-92b76cad2cdd"
      },
      "execution_count": 97,
      "outputs": [
        {
          "output_type": "stream",
          "name": "stdout",
          "text": [
            "tensor([[0.4963, 0.7682, 0.0885, 0.1320],\n",
            "        [0.3074, 0.6341, 0.4901, 0.8964],\n",
            "        [0.4556, 0.6323, 0.3489, 0.4017]])\n",
            "tensor([[0.4963, 0.7682, 0.0885, 0.1320],\n",
            "        [0.3074, 0.6341, 0.4901, 0.8964],\n",
            "        [0.4556, 0.6323, 0.3489, 0.4017]])\n",
            "tensor([[True, True, True, True],\n",
            "        [True, True, True, True],\n",
            "        [True, True, True, True]])\n"
          ]
        }
      ]
    },
    {
      "cell_type": "markdown",
      "source": [
        "# Running on GPUs --> CUDA + NVIDIA harware\n",
        "\n"
      ],
      "metadata": {
        "id": "uVFDuDLMqEem"
      }
    },
    {
      "cell_type": "code",
      "source": [
        "!nvidia-smi"
      ],
      "metadata": {
        "colab": {
          "base_uri": "https://localhost:8080/"
        },
        "id": "H1U9A3hTrUCs",
        "outputId": "0fc96981-ab9a-48c2-bcde-870209041a9c"
      },
      "execution_count": 98,
      "outputs": [
        {
          "output_type": "stream",
          "name": "stdout",
          "text": [
            "Sat Sep 21 03:08:34 2024       \n",
            "+---------------------------------------------------------------------------------------+\n",
            "| NVIDIA-SMI 535.104.05             Driver Version: 535.104.05   CUDA Version: 12.2     |\n",
            "|-----------------------------------------+----------------------+----------------------+\n",
            "| GPU  Name                 Persistence-M | Bus-Id        Disp.A | Volatile Uncorr. ECC |\n",
            "| Fan  Temp   Perf          Pwr:Usage/Cap |         Memory-Usage | GPU-Util  Compute M. |\n",
            "|                                         |                      |               MIG M. |\n",
            "|=========================================+======================+======================|\n",
            "|   0  Tesla T4                       Off | 00000000:00:04.0 Off |                    0 |\n",
            "| N/A   62C    P8              12W /  70W |      0MiB / 15360MiB |      0%      Default |\n",
            "|                                         |                      |                  N/A |\n",
            "+-----------------------------------------+----------------------+----------------------+\n",
            "                                                                                         \n",
            "+---------------------------------------------------------------------------------------+\n",
            "| Processes:                                                                            |\n",
            "|  GPU   GI   CI        PID   Type   Process name                            GPU Memory |\n",
            "|        ID   ID                                                             Usage      |\n",
            "|=======================================================================================|\n",
            "|  No running processes found                                                           |\n",
            "+---------------------------------------------------------------------------------------+\n"
          ]
        }
      ]
    },
    {
      "cell_type": "code",
      "source": [
        "# Check if GPU/TPU is available\n",
        "import torch\n",
        "torch.cuda.is_available()"
      ],
      "metadata": {
        "colab": {
          "base_uri": "https://localhost:8080/"
        },
        "id": "Aw23I9bIrT_R",
        "outputId": "3538ad26-ddad-47d9-d46d-badfce78cb63"
      },
      "execution_count": 99,
      "outputs": [
        {
          "output_type": "execute_result",
          "data": {
            "text/plain": [
              "True"
            ]
          },
          "metadata": {},
          "execution_count": 99
        }
      ]
    },
    {
      "cell_type": "code",
      "source": [
        "### Device agnostic code\n",
        "device = \"cuda\" if torch.cuda.is_available() else \"cpu\"\n",
        "device"
      ],
      "metadata": {
        "colab": {
          "base_uri": "https://localhost:8080/",
          "height": 36
        },
        "id": "BBdxSfaQrT9A",
        "outputId": "d7246ca6-6788-44b2-a658-7fefdf753dd7"
      },
      "execution_count": 100,
      "outputs": [
        {
          "output_type": "execute_result",
          "data": {
            "text/plain": [
              "'cuda'"
            ],
            "application/vnd.google.colaboratory.intrinsic+json": {
              "type": "string"
            }
          },
          "metadata": {},
          "execution_count": 100
        }
      ]
    },
    {
      "cell_type": "code",
      "source": [
        "torch.cuda.device_count()"
      ],
      "metadata": {
        "colab": {
          "base_uri": "https://localhost:8080/"
        },
        "id": "c4I0m--drT6S",
        "outputId": "afc141d6-cda3-4ba6-b2cb-d58d041d65a5"
      },
      "execution_count": 101,
      "outputs": [
        {
          "output_type": "execute_result",
          "data": {
            "text/plain": [
              "1"
            ]
          },
          "metadata": {},
          "execution_count": 101
        }
      ]
    },
    {
      "cell_type": "markdown",
      "source": [
        "## Putting tensors and models on GPU -- for faster operation"
      ],
      "metadata": {
        "id": "LdCquaworT34"
      }
    },
    {
      "cell_type": "code",
      "source": [
        "# Tensor not on GPU by default\n",
        "t1 = torch.tensor([1,2,3])\n",
        "t1, t1.device"
      ],
      "metadata": {
        "colab": {
          "base_uri": "https://localhost:8080/"
        },
        "id": "sX1LE3gFrT1O",
        "outputId": "37036034-94d9-42c2-d107-ed552e2839cc"
      },
      "execution_count": 102,
      "outputs": [
        {
          "output_type": "execute_result",
          "data": {
            "text/plain": [
              "(tensor([1, 2, 3]), device(type='cpu'))"
            ]
          },
          "metadata": {},
          "execution_count": 102
        }
      ]
    },
    {
      "cell_type": "code",
      "source": [
        "# move tensor to GPU if available\n",
        "if torch.cuda.is_available():\n",
        "  t1 = t1.to(device)\n",
        "t1, t1.device"
      ],
      "metadata": {
        "colab": {
          "base_uri": "https://localhost:8080/"
        },
        "id": "NjlAfYJHrTyv",
        "outputId": "3ee16d5e-4d78-4ae6-f2f3-89cd3efba3d1"
      },
      "execution_count": 103,
      "outputs": [
        {
          "output_type": "execute_result",
          "data": {
            "text/plain": [
              "(tensor([1, 2, 3], device='cuda:0'), device(type='cuda', index=0))"
            ]
          },
          "metadata": {},
          "execution_count": 103
        }
      ]
    },
    {
      "cell_type": "code",
      "source": [
        "device"
      ],
      "metadata": {
        "colab": {
          "base_uri": "https://localhost:8080/",
          "height": 36
        },
        "id": "f3zyJ1VPrTwH",
        "outputId": "dc744ff7-5159-4e93-a304-33303f8eabda"
      },
      "execution_count": 104,
      "outputs": [
        {
          "output_type": "execute_result",
          "data": {
            "text/plain": [
              "'cuda'"
            ],
            "application/vnd.google.colaboratory.intrinsic+json": {
              "type": "string"
            }
          },
          "metadata": {},
          "execution_count": 104
        }
      ]
    },
    {
      "cell_type": "code",
      "source": [
        "# moving tensor back to CPU\n",
        "t1 = t1.to(\"cpu\")\n",
        "t1, t1.device, t1.numpy()"
      ],
      "metadata": {
        "colab": {
          "base_uri": "https://localhost:8080/"
        },
        "id": "yHBZNFS2rTtf",
        "outputId": "dbc77b72-dbe4-4f68-ec4e-ad0970cb8f68"
      },
      "execution_count": 105,
      "outputs": [
        {
          "output_type": "execute_result",
          "data": {
            "text/plain": [
              "(tensor([1, 2, 3]), device(type='cpu'), array([1, 2, 3]))"
            ]
          },
          "metadata": {},
          "execution_count": 105
        }
      ]
    },
    {
      "cell_type": "markdown",
      "source": [
        "# Exercises and extra curriculum"
      ],
      "metadata": {
        "id": "JxYpBpEKrTqz"
      }
    },
    {
      "cell_type": "markdown",
      "source": [
        "1. Create a random tensor with shape (7, 7)."
      ],
      "metadata": {
        "id": "03A2iQ313FDo"
      }
    },
    {
      "cell_type": "code",
      "source": [
        "t1 = torch.rand(7,7)\n",
        "t1.shape, t1.dtype"
      ],
      "metadata": {
        "colab": {
          "base_uri": "https://localhost:8080/"
        },
        "id": "yoUkwuj3rToM",
        "outputId": "f3689026-0a59-4edd-c385-53986a071b30"
      },
      "execution_count": 106,
      "outputs": [
        {
          "output_type": "execute_result",
          "data": {
            "text/plain": [
              "(torch.Size([7, 7]), torch.float32)"
            ]
          },
          "metadata": {},
          "execution_count": 106
        }
      ]
    },
    {
      "cell_type": "markdown",
      "source": [
        "2. Perform a matrix multiplication on the tensor from 2 with another random tensor with shape (1, 7) (hint: you may have to transpose the second tensor)."
      ],
      "metadata": {
        "id": "qo-OvVEl3H5R"
      }
    },
    {
      "cell_type": "code",
      "source": [
        "t2 = torch.rand([1,7])\n",
        "t2.shape, t2.dtype"
      ],
      "metadata": {
        "colab": {
          "base_uri": "https://localhost:8080/"
        },
        "id": "7IhpcdEGrTlg",
        "outputId": "7e05cc14-aeca-4d5b-d398-9347deb0b070"
      },
      "execution_count": 107,
      "outputs": [
        {
          "output_type": "execute_result",
          "data": {
            "text/plain": [
              "(torch.Size([1, 7]), torch.float32)"
            ]
          },
          "metadata": {},
          "execution_count": 107
        }
      ]
    },
    {
      "cell_type": "code",
      "source": [
        "torch.matmul(t1,t2.T)"
      ],
      "metadata": {
        "colab": {
          "base_uri": "https://localhost:8080/"
        },
        "id": "Lhc4sX8qrTi8",
        "outputId": "11ea7643-ce1e-42c1-fb48-d9ae201477a5"
      },
      "execution_count": 108,
      "outputs": [
        {
          "output_type": "execute_result",
          "data": {
            "text/plain": [
              "tensor([[1.4622],\n",
              "        [2.1803],\n",
              "        [1.8105],\n",
              "        [1.6405],\n",
              "        [1.5135],\n",
              "        [2.7092],\n",
              "        [1.7404]])"
            ]
          },
          "metadata": {},
          "execution_count": 108
        }
      ]
    },
    {
      "cell_type": "markdown",
      "source": [
        "3. Set the random seed to 0 and do exercises 2 & 3 over again."
      ],
      "metadata": {
        "id": "6NeWjEts3ORM"
      }
    },
    {
      "cell_type": "code",
      "source": [
        "torch.manual_seed(0)\n",
        "tn = torch.rand(7,7)\n",
        "torch.manual_seed(0)\n",
        "tn2 = torch.rand([1,7])\n",
        "torch.matmul(tn,tn2.T)"
      ],
      "metadata": {
        "colab": {
          "base_uri": "https://localhost:8080/"
        },
        "id": "caHS47jTrTdr",
        "outputId": "a5778b43-d538-4eef-b6c4-29a842c70e07"
      },
      "execution_count": 109,
      "outputs": [
        {
          "output_type": "execute_result",
          "data": {
            "text/plain": [
              "tensor([[1.5985],\n",
              "        [1.1173],\n",
              "        [1.2741],\n",
              "        [1.6838],\n",
              "        [0.8279],\n",
              "        [1.0347],\n",
              "        [1.2498]])"
            ]
          },
          "metadata": {},
          "execution_count": 109
        }
      ]
    },
    {
      "cell_type": "markdown",
      "source": [
        "4. Speaking of random seeds, we saw how to set it with torch.manual_seed() but is there a GPU equivalent? (hint: you'll need to look into the documentation for torch.cuda for this one). If there is, set the GPU random seed to 1234."
      ],
      "metadata": {
        "id": "Na0QbzV0qEb5"
      }
    },
    {
      "cell_type": "code",
      "source": [
        "torch.cuda.manual_seed(1234)\n"
      ],
      "metadata": {
        "id": "8y0q8pJlqEZw"
      },
      "execution_count": 110,
      "outputs": []
    },
    {
      "cell_type": "markdown",
      "source": [
        "5. Make a random tensor with shape (1, 1, 1, 10) and then create a new tensor with all the 1 dimensions removed to be left with a tensor of shape (10). Set the seed to 7 when you create it and print out the first tensor and it's shape as well as the second tensor and it's shape."
      ],
      "metadata": {
        "id": "qwhDaFQx4B9S"
      }
    },
    {
      "cell_type": "code",
      "source": [
        "torch.manual_seed(7)\n",
        "t1 = torch.rand([1, 1, 1, 10])\n",
        "t1, t1.shape, t1.ndim, t1.dtype"
      ],
      "metadata": {
        "colab": {
          "base_uri": "https://localhost:8080/"
        },
        "id": "uE0g4_J6Bmid",
        "outputId": "068f530e-5833-4d04-a944-4c79289c1131"
      },
      "execution_count": 111,
      "outputs": [
        {
          "output_type": "execute_result",
          "data": {
            "text/plain": [
              "(tensor([[[[0.5349, 0.1988, 0.6592, 0.6569, 0.2328, 0.4251, 0.2071, 0.6297,\n",
              "            0.3653, 0.8513]]]]),\n",
              " torch.Size([1, 1, 1, 10]),\n",
              " 4,\n",
              " torch.float32)"
            ]
          },
          "metadata": {},
          "execution_count": 111
        }
      ]
    },
    {
      "cell_type": "code",
      "source": [
        "t2 = t1.squeeze()\n",
        "t2, t2.shape, t2.ndim, t2.dtype"
      ],
      "metadata": {
        "colab": {
          "base_uri": "https://localhost:8080/"
        },
        "id": "Ld2Sg-ZIBq6o",
        "outputId": "bd526b2c-e32e-41f2-8a80-79df7a145247"
      },
      "execution_count": 112,
      "outputs": [
        {
          "output_type": "execute_result",
          "data": {
            "text/plain": [
              "(tensor([0.5349, 0.1988, 0.6592, 0.6569, 0.2328, 0.4251, 0.2071, 0.6297, 0.3653,\n",
              "         0.8513]),\n",
              " torch.Size([10]),\n",
              " 1,\n",
              " torch.float32)"
            ]
          },
          "metadata": {},
          "execution_count": 112
        }
      ]
    }
  ]
}